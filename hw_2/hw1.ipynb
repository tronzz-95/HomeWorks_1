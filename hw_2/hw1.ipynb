{
  "nbformat": 4,
  "nbformat_minor": 0,
  "metadata": {
    "colab": {
      "provenance": []
    },
    "kernelspec": {
      "name": "python3",
      "display_name": "Python 3"
    },
    "language_info": {
      "name": "python"
    }
  },
  "cells": [
    {
      "cell_type": "code",
      "execution_count": null,
      "metadata": {
        "colab": {
          "base_uri": "https://localhost:8080/"
        },
        "id": "NfJVu4SjEZpg",
        "outputId": "ab51e2a8-58ee-4ebb-f1ee-bf18f2cb5b18"
      },
      "outputs": [
        {
          "output_type": "stream",
          "name": "stdout",
          "text": [
            "Шоколадный батончик, добавка: Нуга\n",
            "Шоколадный батончик, 50.0 рублей\n",
            "Обычный шоколадный баточник\n",
            "Шоколадный батончик, 30.0 рублей\n",
            "Цена батончика должна быть больше нуля.\n"
          ]
        }
      ],
      "source": [
        "#Создаю класс Chocolate\n",
        "class Chocolate:\n",
        "    def __init__(self, price: float, addition: str = None): # Сразу реализуем присвоение формата. Это где-то еще можно сделать?\n",
        "        if price <= 0:\n",
        "            raise ValueError #Сразу проверяем значение price на условие положительности\n",
        "        self.price = price\n",
        "        self.addition = addition\n",
        "\n",
        "    def show_my_chocolate(self): #реализуем метод show_my_chocolate\n",
        "        if self.addition:\n",
        "            print(f'Шоколадный батончик, добавка: {self.addition}')\n",
        "        else:\n",
        "            print('Обычный шоколадный баточник') # проверка на наличие параметра addition\n",
        "\n",
        "    def __str__(self):\n",
        "        return f'Шоколадный батончик, {self.price} рублей' # Выводим красивое сообщение\n",
        "\n",
        "# пример использования с отработкой ошибки на положительность параметра price\n",
        "try:\n",
        "    choco1 = Chocolate(50.0, 'Нуга')\n",
        "    choco1.show_my_chocolate()\n",
        "    print(choco1)\n",
        "\n",
        "    choco2 = Chocolate(30.0)\n",
        "    choco2.show_my_chocolate()\n",
        "    print(choco2)\n",
        "\n",
        "    choco3 = Chocolate(-10.0)  # Это должно вызвать ValueError\n",
        "except ValueError:\n",
        "    print('Цена батончика должна быть больше нуля.') #Заменяем ValueError на сообщение\n"
      ]
    },
    {
      "cell_type": "code",
      "source": [],
      "metadata": {
        "id": "AGPUEzH3Xwac"
      },
      "execution_count": null,
      "outputs": []
    }
  ]
}